{
 "cells": [
  {
   "cell_type": "markdown",
   "metadata": {},
   "source": [
    "<center>\n",
    "<img src=\"../../img/ods_stickers.jpg\">\n",
    "## <center>Открытый курс по машинному обучению\n",
    "Автор материала: Data Science Team Lead в Juno Арсений Кравченко. Материал распространяется на условиях лицензии [Creative Commons CC BY-NC-SA 4.0](https://creativecommons.org/licenses/by-nc-sa/4.0/). Можно использовать в любых целях (редактировать, поправлять и брать за основу), кроме коммерческих, но с обязательным упоминанием автора материала.\n"
   ]
  },
  {
   "cell_type": "markdown",
   "metadata": {},
   "source": [
    "# <center>Домашнее задание № 6. Работа с признаками"
   ]
  },
  {
   "cell_type": "markdown",
   "metadata": {},
   "source": [
    "В этом задании мы будем работать с [данными](https://www.kaggle.com/c/two-sigma-connect-rental-listing-inquiries/data) соревнования Kaggle \"Two Sigma Connect: Rental Listing Inquiries\". Ответы на вопросы заполните в [веб-форме](https://goo.gl/forms/WmKWYpvK8kgjbP8j2)."
   ]
  },
  {
   "cell_type": "markdown",
   "metadata": {},
   "source": [
    "<font color='red'>Вопрос 1.</font> При каком значении lmbda, выражение np.log(x) == scipy.stats.boxcox(x, lmbda=lmbda) будет истинным?\n",
    "- 1\n",
    "- 0\n",
    "- $\\frac{1}{x}$\n",
    "- $1 + x$"
   ]
  },
  {
   "cell_type": "code",
   "execution_count": null,
   "metadata": {},
   "outputs": [],
   "source": [
    "import numpy as np\n",
    "from scipy.stats import boxcox\n",
    "x = np.random.rand(1)\n",
    "lmbda = [1, 0, 1/x, 1+x]\n",
    "for l in lmbda:\n",
    "    if np.log(x) == boxcox(x, lmbda = l):\n",
    "        print('It is true for lambda = {}'.format(l))"
   ]
  },
  {
   "cell_type": "markdown",
   "metadata": {},
   "source": [
    "<font color='red'>Вопрос 2.</font> Переменная ``created`` является признаком, содержащим ``datetime``, это объект класса ``pandas.tslib.Timestamp``. Какой способ извлечения признаков будет наименее полезным?\n",
    "- created.weekday() * 24 + created.hour\n",
    "- str(created) c последующим one hot encoding\n",
    "- created.weekday()\n",
    "- created.hour"
   ]
  },
  {
   "cell_type": "code",
   "execution_count": null,
   "metadata": {
    "collapsed": true
   },
   "outputs": [],
   "source": [
    "# Second method is dangerous, as might creat a lot of unique features out of nothing\n",
    "import json \n",
    "import pandas as pd\n",
    "with open('/Users/i_yu_b/Dropbox/DS/ML Habr/mlcourse_open/data/Two Sigma Connect/train.json', 'r') as raw_data:\n",
    "    data = json.load(raw_data)  "
   ]
  },
  {
   "cell_type": "code",
   "execution_count": null,
   "metadata": {},
   "outputs": [],
   "source": [
    "created = pd.DataFrame(data)['created']\n",
    "created = pd.to_datetime(created)\n",
    "print('{} out of {} values are unique'.format(len(created.unique()), len(created)))"
   ]
  },
  {
   "cell_type": "markdown",
   "metadata": {},
   "source": [
    "<font color='red'>Вопрос 3. </font> Какую информацию нельзя извлечь из User-Agent?\n",
    "- Версия операционной системы\n",
    "- Разрешение экрана пользователя 'right'\n",
    "- Платформу, на базе которой построен браузер\n",
    "- Принадлежит ли запрос роботу-индексатору Яндекса"
   ]
  },
  {
   "cell_type": "code",
   "execution_count": null,
   "metadata": {
    "collapsed": true
   },
   "outputs": [],
   "source": [
    "ua = 'Mozilla/5.0 (X11; Linux x86_64) AppleWebKit/537.36 (KHTML, like Gecko) Ubuntu Chromium/56.0.2924.76 Chrome/: 56.0.2924.76 Safari/537.36'\n",
    "import user_agents\n",
    "ua = user_agents.parse(ua) \n",
    "print('Is it a bot: {}'.format(ua.is_bot))\n",
    "print('Is it a mobile: {}'.format(ua.is_mobile))\n",
    "print('Is it a pc: {}'.format(ua.is_pc))\n",
    "print('OS family: {}'.format(ua.os.family))\n",
    "print('OS version: {}'.format(ua.os.version))\n",
    "print('Browser family: {}'.format(ua.browser.family))\n",
    "print('Browser version: {}'.format(ua.os.version))"
   ]
  },
  {
   "cell_type": "markdown",
   "metadata": {},
   "source": [
    "<font color='red'>Вопрос 4. </font> Мы решаем задачу классификации: есть пары фотографий, нужно определить, являются ли они фотографиями одного и того же объекта. Какой признак будет наиболее релевантен? \n",
    "- Расстояние Левенштейна между названиями моделей фотоаппаратов, данные о модели получены из EXIF\n",
    "- Евклидово расстояние между векторами, полученными из предобученной сети ResNet без полносвязных слоев\n",
    "- Разница (в днях) между датами съемки фотографий, даты съемки получены из EXIF\n",
    "- Разность средней яркости во всех (RGB) каналах обоих изображений"
   ]
  },
  {
   "cell_type": "code",
   "execution_count": null,
   "metadata": {
    "collapsed": true
   },
   "outputs": [],
   "source": [
    "# the Levenshtein distance of camera model and difference between dates of photoshooting has nothing to do with \n",
    "# classification of objects photo\n",
    "# Euclidean distance between vectors is relevant\n",
    "# Difference in brightness might or might not help"
   ]
  },
  {
   "cell_type": "markdown",
   "metadata": {},
   "source": [
    "<font color='red'>Вопрос 5.</font> Для какой из задач отбор признаков (feature selection) будет бесполезен?\n",
    "- Ускорение модели на этапе обучения *true*\n",
    "- Ускорение модели на этапе предсказания *true*\n",
    "- Борьба со слишком большими значениями признаков, ведущими к переполнению\n",
    "- Повышение устойчивости модели *true*"
   ]
  },
  {
   "cell_type": "code",
   "execution_count": null,
   "metadata": {
    "collapsed": true
   },
   "outputs": [],
   "source": [
    "import pandas as pd"
   ]
  },
  {
   "cell_type": "markdown",
   "metadata": {},
   "source": [
    "Поменяйте на свой путь к данным ``train.json``, этот файл вы получите после разархивации скачанного с Kaggle ``train.json.zip`` (по правилам Kaggle данные этого соревнования мы не можем распространять)."
   ]
  },
  {
   "cell_type": "code",
   "execution_count": null,
   "metadata": {
    "collapsed": true
   },
   "outputs": [],
   "source": [
    "data = pd.read_json('/Users/i_yu_b/Dropbox/DS/ML Habr/mlcourse_open/data/Two Sigma Connect/train.json')"
   ]
  },
  {
   "cell_type": "code",
   "execution_count": null,
   "metadata": {},
   "outputs": [],
   "source": [
    "data.head()"
   ]
  },
  {
   "cell_type": "code",
   "execution_count": null,
   "metadata": {},
   "outputs": [],
   "source": [
    "data.shape"
   ]
  },
  {
   "cell_type": "code",
   "execution_count": null,
   "metadata": {},
   "outputs": [],
   "source": [
    "data.info()"
   ]
  },
  {
   "cell_type": "markdown",
   "metadata": {},
   "source": [
    "<font color='red'>Вопрос 6.</font> В каком из районов находится точка с координатами (40.825142, -73.909171)?"
   ]
  },
  {
   "cell_type": "code",
   "execution_count": null,
   "metadata": {},
   "outputs": [],
   "source": [
    "from geopy.geocoders import Nominatim\n",
    "geolocator = Nominatim()\n",
    "location = geolocator.reverse(\"40.825142, -73.909171\")\n",
    "print(location.address)"
   ]
  },
  {
   "cell_type": "code",
   "execution_count": 18,
   "metadata": {},
   "outputs": [
    {
     "name": "stdout",
     "output_type": "stream",
     "text": [
      "508 E 164th St, Bronx, NY 10456, USA\n"
     ]
    }
   ],
   "source": [
    "from geopy.geocoders import GoogleV3\n",
    "location_googlemaps = GoogleV3().reverse((40.825142, -73.909171),exactly_one=True)\n",
    "print(location_googlemaps)"
   ]
  },
  {
   "cell_type": "markdown",
   "metadata": {},
   "source": [
    "Обучите ``CountVectorizer`` из ``scikit-learn``, используя колонку ``Description`` из датасета \"Two Sigma Connect: Rental Listing Inquires\" таким образом, чтобы в словаре было не более 1000 слов, не меняя прочие параметры по умолчанию. \n",
    "<font color='red'>Вопрос 7.</font> Какое слово соответствует индексу 165 в словаре обученного ``CountVectorizer``?"
   ]
  },
  {
   "cell_type": "code",
   "execution_count": null,
   "metadata": {},
   "outputs": [],
   "source": [
    "from sklearn.feature_extraction.text import CountVectorizer\n",
    "count = CountVectorizer(analyzer = 'word',max_features = 1000)\n",
    "count.fit_transform(data['description'])\n",
    "vocabulary = count.vocabulary_"
   ]
  },
  {
   "cell_type": "code",
   "execution_count": null,
   "metadata": {},
   "outputs": [],
   "source": [
    "import time\n",
    "start_time=time.time()\n",
    "for i in range(1,1000):\n",
    "    key=list(vocabulary.keys())[list(vocabulary.values()).index(165)]\n",
    "print(key)\n",
    "elapsed_time=time.time()-start_time \n",
    "print('Elapsed time: {}'.format(elapsed_time))"
   ]
  },
  {
   "cell_type": "code",
   "execution_count": null,
   "metadata": {},
   "outputs": [],
   "source": [
    "import time\n",
    "start_time=time.time()\n",
    "for i in range(1,1000):\n",
    "    vec = np.zeros(1000)\n",
    "    vec[165] = 1\n",
    "    key=count.inverse_transform(vec)\n",
    "print(key)\n",
    "elapsed_time=time.time()-start_time \n",
    "print('Elapsed time: {}'.format(elapsed_time))"
   ]
  },
  {
   "cell_type": "code",
   "execution_count": null,
   "metadata": {},
   "outputs": [],
   "source": [
    "import time\n",
    "start_time=time.time()\n",
    "for i in range(1,1000):\n",
    "    vocabulary2 = {v: k for k, v in vocabulary.items()}\n",
    "    key = vocabulary2[165]\n",
    "print(key)\n",
    "elapsed_time=time.time()-start_time \n",
    "print('Elapsed time: {}'.format(elapsed_time))"
   ]
  },
  {
   "cell_type": "markdown",
   "metadata": {},
   "source": [
    "Используя датасет \"Two Sigma Connect: Rental Listing\", обработанный при помощи [скрипта](https://github.com/Yorko/mlcourse_open/blob/master/jupyter_notebooks/topic06_features/demo.py), отмасштабируйте его при помощи ``MinMaxScaler`` и удалите признаки с дисперсией меньше 0.1. \n",
    "<font color='red'>Вопрос 8.</font> Сколько признаков осталось в датасете?"
   ]
  },
  {
   "cell_type": "code",
   "execution_count": null,
   "metadata": {},
   "outputs": [],
   "source": [
    "from sklearn.preprocessing import MinMaxScaler\n",
    "df, target = get_data()\n",
    "df_scaled = MinMaxScaler().fit_transform(df.values)"
   ]
  },
  {
   "cell_type": "code",
   "execution_count": null,
   "metadata": {},
   "outputs": [],
   "source": [
    "from sklearn.feature_selection import VarianceThreshold"
   ]
  },
  {
   "cell_type": "code",
   "execution_count": null,
   "metadata": {},
   "outputs": [],
   "source": [
    "selector = VarianceThreshold(threshold = 0.1)\n",
    "shape_old = df.shape\n",
    "df_scaled_select = selector.fit_transform(df_scaled)\n",
    "print('Number of features decreased from {} to {}.'.format(shape_old[1],df_scaled_select.shape[1]))"
   ]
  }
 ],
 "metadata": {
  "kernelspec": {
   "display_name": "Python 2",
   "language": "python",
   "name": "python2"
  },
  "language_info": {
   "codemirror_mode": {
    "name": "ipython",
    "version": 2
   },
   "file_extension": ".py",
   "mimetype": "text/x-python",
   "name": "python",
   "nbconvert_exporter": "python",
   "pygments_lexer": "ipython2",
   "version": "2.7.13"
  }
 },
 "nbformat": 4,
 "nbformat_minor": 2
}

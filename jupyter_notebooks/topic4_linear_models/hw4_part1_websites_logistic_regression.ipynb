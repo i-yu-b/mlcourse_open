{
 "cells": [
  {
   "cell_type": "markdown",
   "metadata": {},
   "source": [
    "<center>\n",
    "<img src=\"../../img/ods_stickers.jpg\">\n",
    "## Открытый курс по машинному обучению\n",
    "</center>\n",
    "<center>Автор материала: Юрий Исаков"
   ]
  },
  {
   "cell_type": "markdown",
   "metadata": {},
   "source": [
    "# <center> Домашнее задание № 4. Часть 1\n",
    "## <center>  Идентификация пользователя с помощью логистической регрессии\n",
    "\n",
    "В этой домашней работе мы научимся работать с разреженными матрицами, обучать логистическую регрессию, формировать и отбирать признаки, а также воспроизведем два бейслайна учебного [соревнования](https://inclass.kaggle.com/c/catch-me-if-you-can-intruder-detection-through-webpage-session-tracking) \"Catch Me If You Can: Intruder Detection through Webpage Session Tracking\" на Kaggle Inclass. В этой домашней работе 9 заданий, которые вам предстоит выполнить и после этого заполнить ответы в [гугл-форме](https://docs.google.com/forms/d/e/1FAIpQLSd8E7naU38ikc9-rd31KeVfez3emCo4Ok1WrpQTr-XCDelRiw/viewform)."
   ]
  },
  {
   "cell_type": "code",
   "execution_count": 1,
   "metadata": {},
   "outputs": [],
   "source": [
    "# загрузим библиотеки и установим опции\n",
    "\n",
    "from __future__ import division, print_function\n",
    "# отключим всякие предупреждения Anaconda\n",
    "import warnings\n",
    "warnings.filterwarnings('ignore')\n",
    "%matplotlib inline\n",
    "from matplotlib import pyplot as plt\n",
    "import seaborn as sns\n",
    "\n",
    "import pickle\n",
    "import numpy as np\n",
    "import pandas as pd\n",
    "from scipy.sparse import csr_matrix\n",
    "from scipy.sparse import hstack\n",
    "from sklearn.preprocessing import StandardScaler\n",
    "from sklearn.metrics import roc_auc_score\n",
    "from sklearn.linear_model import LogisticRegression"
   ]
  },
  {
   "cell_type": "markdown",
   "metadata": {},
   "source": [
    "##### О соревновании\n",
    "Мы будем решать задачу идентификации взломщика по его поведению в сети Интернет. Это сложная и интересная задача на стыке анализа данных и поведенческой психологии. В качестве примера: компания Яндекс решает задачу идентификации взломщика почтового ящика по его поведению. В двух словах, взломщик будет себя вести не так, как владелец ящика: он может не удалять сообщения сразу по прочтении, как это делал хозяин, он будет по-другому ставить флажки сообщениям и даже по-своему двигать мышкой. Тогда такого злоумышленника можно идентифицировать и \"выкинуть\" из почтового ящика, предложив хозяину войти по SMS-коду. Этот пилотный проект описан в статье на Хабрахабре. Похожие вещи делаются, например, в Google Analytics и описываются в научных статьях, найти можно многое по фразам \"Traversal Pattern Mining\" и \"Sequential Pattern Mining\".\n",
    "\n",
    "В этом соревновании будем решать похожую задачу: алгоритм будет анализировать последовательность из нескольких веб-сайтов, посещенных подряд одним и тем же человеком, и определять, Элис это или взломщик (кто-то другой). В качестве метрики в этом соревновании используется [ROC AUC](https://ru.wikipedia.org/wiki/ROC-кривая). Кто такая Элис, мы расскажем в конце курса."
   ]
  },
  {
   "cell_type": "markdown",
   "metadata": {},
   "source": [
    "### 1. Загрузка и преобразование данных\n",
    "Зарегистрируйтесь на [Kaggle](www.kaggle.com), если вы не сделали этого раньше, зайдите на [страницу](https://inclass.kaggle.com/c/catch-me-if-you-can-intruder-detection-through-webpage-session-tracking) соревнования и скачайте данные. Первым делом загрузим обучающую и тестовую выборки, посмотрим на данные и выполним несколько простых заданий:"
   ]
  },
  {
   "cell_type": "code",
   "execution_count": 19,
   "metadata": {},
   "outputs": [
    {
     "data": {
      "text/html": [
       "<div>\n",
       "<table border=\"1\" class=\"dataframe\">\n",
       "  <thead>\n",
       "    <tr style=\"text-align: right;\">\n",
       "      <th></th>\n",
       "      <th>site1</th>\n",
       "      <th>time1</th>\n",
       "      <th>site2</th>\n",
       "      <th>time2</th>\n",
       "      <th>site3</th>\n",
       "      <th>time3</th>\n",
       "      <th>site4</th>\n",
       "      <th>time4</th>\n",
       "      <th>site5</th>\n",
       "      <th>time5</th>\n",
       "      <th>...</th>\n",
       "      <th>time6</th>\n",
       "      <th>site7</th>\n",
       "      <th>time7</th>\n",
       "      <th>site8</th>\n",
       "      <th>time8</th>\n",
       "      <th>site9</th>\n",
       "      <th>time9</th>\n",
       "      <th>site10</th>\n",
       "      <th>time10</th>\n",
       "      <th>target</th>\n",
       "    </tr>\n",
       "    <tr>\n",
       "      <th>session_id</th>\n",
       "      <th></th>\n",
       "      <th></th>\n",
       "      <th></th>\n",
       "      <th></th>\n",
       "      <th></th>\n",
       "      <th></th>\n",
       "      <th></th>\n",
       "      <th></th>\n",
       "      <th></th>\n",
       "      <th></th>\n",
       "      <th></th>\n",
       "      <th></th>\n",
       "      <th></th>\n",
       "      <th></th>\n",
       "      <th></th>\n",
       "      <th></th>\n",
       "      <th></th>\n",
       "      <th></th>\n",
       "      <th></th>\n",
       "      <th></th>\n",
       "      <th></th>\n",
       "    </tr>\n",
       "  </thead>\n",
       "  <tbody>\n",
       "    <tr>\n",
       "      <th>12224</th>\n",
       "      <td>50</td>\n",
       "      <td>2014-04-30 23:33:48</td>\n",
       "      <td>50.0</td>\n",
       "      <td>2014-04-30 23:33:49</td>\n",
       "      <td>48.0</td>\n",
       "      <td>2014-04-30 23:33:52</td>\n",
       "      <td>49.0</td>\n",
       "      <td>2014-04-30 23:33:52</td>\n",
       "      <td>48.0</td>\n",
       "      <td>2014-04-30 23:33:53</td>\n",
       "      <td>...</td>\n",
       "      <td>2014-04-30 23:33:53</td>\n",
       "      <td>52.0</td>\n",
       "      <td>2014-04-30 23:33:54</td>\n",
       "      <td>49.0</td>\n",
       "      <td>2014-04-30 23:33:54</td>\n",
       "      <td>303.0</td>\n",
       "      <td>2014-04-30 23:33:57</td>\n",
       "      <td>304.0</td>\n",
       "      <td>2014-04-30 23:34:00</td>\n",
       "      <td>0</td>\n",
       "    </tr>\n",
       "    <tr>\n",
       "      <th>164438</th>\n",
       "      <td>4207</td>\n",
       "      <td>2014-04-30 23:34:15</td>\n",
       "      <td>753.0</td>\n",
       "      <td>2014-04-30 23:34:16</td>\n",
       "      <td>753.0</td>\n",
       "      <td>2014-04-30 23:34:17</td>\n",
       "      <td>52.0</td>\n",
       "      <td>2014-04-30 23:34:18</td>\n",
       "      <td>50.0</td>\n",
       "      <td>2014-04-30 23:34:18</td>\n",
       "      <td>...</td>\n",
       "      <td>2014-04-30 23:35:16</td>\n",
       "      <td>3346.0</td>\n",
       "      <td>2014-04-30 23:35:29</td>\n",
       "      <td>3359.0</td>\n",
       "      <td>2014-04-30 23:36:12</td>\n",
       "      <td>3346.0</td>\n",
       "      <td>2014-04-30 23:36:42</td>\n",
       "      <td>38.0</td>\n",
       "      <td>2014-04-30 23:37:13</td>\n",
       "      <td>0</td>\n",
       "    </tr>\n",
       "    <tr>\n",
       "      <th>12221</th>\n",
       "      <td>52</td>\n",
       "      <td>2014-04-30 23:38:08</td>\n",
       "      <td>3346.0</td>\n",
       "      <td>2014-04-30 23:38:10</td>\n",
       "      <td>784.0</td>\n",
       "      <td>2014-04-30 23:38:13</td>\n",
       "      <td>784.0</td>\n",
       "      <td>2014-04-30 23:38:18</td>\n",
       "      <td>3346.0</td>\n",
       "      <td>2014-04-30 23:38:22</td>\n",
       "      <td>...</td>\n",
       "      <td>2014-04-30 23:38:24</td>\n",
       "      <td>3324.0</td>\n",
       "      <td>2014-04-30 23:38:35</td>\n",
       "      <td>7330.0</td>\n",
       "      <td>2014-04-30 23:38:35</td>\n",
       "      <td>3594.0</td>\n",
       "      <td>2014-04-30 23:38:35</td>\n",
       "      <td>3329.0</td>\n",
       "      <td>2014-04-30 23:38:36</td>\n",
       "      <td>0</td>\n",
       "    </tr>\n",
       "    <tr>\n",
       "      <th>156968</th>\n",
       "      <td>3328</td>\n",
       "      <td>2014-04-30 23:38:36</td>\n",
       "      <td>3324.0</td>\n",
       "      <td>2014-04-30 23:38:36</td>\n",
       "      <td>3599.0</td>\n",
       "      <td>2014-04-30 23:38:38</td>\n",
       "      <td>3413.0</td>\n",
       "      <td>2014-04-30 23:38:38</td>\n",
       "      <td>753.0</td>\n",
       "      <td>2014-04-30 23:38:39</td>\n",
       "      <td>...</td>\n",
       "      <td>2014-04-30 23:38:40</td>\n",
       "      <td>3599.0</td>\n",
       "      <td>2014-04-30 23:38:40</td>\n",
       "      <td>3359.0</td>\n",
       "      <td>2014-04-30 23:39:07</td>\n",
       "      <td>3359.0</td>\n",
       "      <td>2014-04-30 23:39:08</td>\n",
       "      <td>3346.0</td>\n",
       "      <td>2014-04-30 23:39:53</td>\n",
       "      <td>0</td>\n",
       "    </tr>\n",
       "    <tr>\n",
       "      <th>204762</th>\n",
       "      <td>222</td>\n",
       "      <td>2014-04-30 23:39:53</td>\n",
       "      <td>3346.0</td>\n",
       "      <td>2014-04-30 23:39:59</td>\n",
       "      <td>3346.0</td>\n",
       "      <td>2014-04-30 23:40:00</td>\n",
       "      <td>3359.0</td>\n",
       "      <td>2014-04-30 23:40:05</td>\n",
       "      <td>55.0</td>\n",
       "      <td>2014-04-30 23:40:05</td>\n",
       "      <td>...</td>\n",
       "      <td>2014-04-30 23:40:05</td>\n",
       "      <td>3346.0</td>\n",
       "      <td>2014-04-30 23:40:05</td>\n",
       "      <td>NaN</td>\n",
       "      <td>NaT</td>\n",
       "      <td>NaN</td>\n",
       "      <td>NaT</td>\n",
       "      <td>NaN</td>\n",
       "      <td>NaT</td>\n",
       "      <td>0</td>\n",
       "    </tr>\n",
       "  </tbody>\n",
       "</table>\n",
       "<p>5 rows × 21 columns</p>\n",
       "</div>"
      ],
      "text/plain": [
       "            site1               time1   site2               time2   site3  \\\n",
       "session_id                                                                  \n",
       "12224          50 2014-04-30 23:33:48    50.0 2014-04-30 23:33:49    48.0   \n",
       "164438       4207 2014-04-30 23:34:15   753.0 2014-04-30 23:34:16   753.0   \n",
       "12221          52 2014-04-30 23:38:08  3346.0 2014-04-30 23:38:10   784.0   \n",
       "156968       3328 2014-04-30 23:38:36  3324.0 2014-04-30 23:38:36  3599.0   \n",
       "204762        222 2014-04-30 23:39:53  3346.0 2014-04-30 23:39:59  3346.0   \n",
       "\n",
       "                         time3   site4               time4   site5  \\\n",
       "session_id                                                           \n",
       "12224      2014-04-30 23:33:52    49.0 2014-04-30 23:33:52    48.0   \n",
       "164438     2014-04-30 23:34:17    52.0 2014-04-30 23:34:18    50.0   \n",
       "12221      2014-04-30 23:38:13   784.0 2014-04-30 23:38:18  3346.0   \n",
       "156968     2014-04-30 23:38:38  3413.0 2014-04-30 23:38:38   753.0   \n",
       "204762     2014-04-30 23:40:00  3359.0 2014-04-30 23:40:05    55.0   \n",
       "\n",
       "                         time5  ...                 time6   site7  \\\n",
       "session_id                      ...                                 \n",
       "12224      2014-04-30 23:33:53  ...   2014-04-30 23:33:53    52.0   \n",
       "164438     2014-04-30 23:34:18  ...   2014-04-30 23:35:16  3346.0   \n",
       "12221      2014-04-30 23:38:22  ...   2014-04-30 23:38:24  3324.0   \n",
       "156968     2014-04-30 23:38:39  ...   2014-04-30 23:38:40  3599.0   \n",
       "204762     2014-04-30 23:40:05  ...   2014-04-30 23:40:05  3346.0   \n",
       "\n",
       "                         time7   site8               time8   site9  \\\n",
       "session_id                                                           \n",
       "12224      2014-04-30 23:33:54    49.0 2014-04-30 23:33:54   303.0   \n",
       "164438     2014-04-30 23:35:29  3359.0 2014-04-30 23:36:12  3346.0   \n",
       "12221      2014-04-30 23:38:35  7330.0 2014-04-30 23:38:35  3594.0   \n",
       "156968     2014-04-30 23:38:40  3359.0 2014-04-30 23:39:07  3359.0   \n",
       "204762     2014-04-30 23:40:05     NaN                 NaT     NaN   \n",
       "\n",
       "                         time9  site10              time10 target  \n",
       "session_id                                                         \n",
       "12224      2014-04-30 23:33:57   304.0 2014-04-30 23:34:00      0  \n",
       "164438     2014-04-30 23:36:42    38.0 2014-04-30 23:37:13      0  \n",
       "12221      2014-04-30 23:38:35  3329.0 2014-04-30 23:38:36      0  \n",
       "156968     2014-04-30 23:39:08  3346.0 2014-04-30 23:39:53      0  \n",
       "204762                     NaT     NaN                 NaT      0  \n",
       "\n",
       "[5 rows x 21 columns]"
      ]
     },
     "execution_count": 19,
     "metadata": {},
     "output_type": "execute_result"
    }
   ],
   "source": [
    "# загрузим обучающую и тестовую выборки\n",
    "train_df = pd.read_csv('../../data/websites_train_sessions.csv',\n",
    "                       index_col='session_id')\n",
    "test_df = pd.read_csv('../../data/websites_test_sessions.csv',\n",
    "                      index_col='session_id')\n",
    "\n",
    "# приведем колонки time1, ..., time10 к временному формату\n",
    "times = ['time%s' % i for i in range(1, 11)]\n",
    "train_df[times] = train_df[times].apply(pd.to_datetime)\n",
    "test_df[times] = test_df[times].apply(pd.to_datetime)\n",
    "\n",
    "# отсортируем данные по времени\n",
    "train_df = train_df.sort_values(by='time1')\n",
    "\n",
    "# посмотрим на заголовок обучающей выборки\n",
    "train_df.head()\n",
    "train_df.tail()"
   ]
  },
  {
   "cell_type": "markdown",
   "metadata": {},
   "source": [
    "В обучающей выборке содержатся следующие признаки:\n",
    "    - site1 – индекс первого посещенного сайта в сессии\n",
    "    - time1 – время посещения первого сайта в сессии\n",
    "    - ...\n",
    "    - site10 – индекс 10-го посещенного сайта в сессии\n",
    "    - time10 – время посещения 10-го сайта в сессии\n",
    "    - target – целевая переменная, принимает значение 1 для сессий Элис и 0 для сессий других пользователей\n",
    "    \n",
    "Сессии пользователей выделены таким образом, что они не могут быть длинее получаса или содержит более 10 сайтов. То есть сессия считается оконченной либо когда пользователь посетил 10 сайтов подряд, либо когда сессия заняла по времени более 30 минут.\n",
    "\n",
    "В таблице встречаются пропущенные значения, это значит, что сессия состоит менее, чем из 10 сайтов. Заменим пропущенные значения нулем и приведем колонки целому типу. Также загрузим словарь сайтов и посмотрим как он выглядит:"
   ]
  },
  {
   "cell_type": "code",
   "execution_count": 20,
   "metadata": {},
   "outputs": [
    {
     "name": "stdout",
     "output_type": "stream",
     "text": [
      "всего сайтов: 48371\n"
     ]
    },
    {
     "data": {
      "text/html": [
       "<div>\n",
       "<table border=\"1\" class=\"dataframe\">\n",
       "  <thead>\n",
       "    <tr style=\"text-align: right;\">\n",
       "      <th></th>\n",
       "      <th>site</th>\n",
       "    </tr>\n",
       "  </thead>\n",
       "  <tbody>\n",
       "    <tr>\n",
       "      <th>13852</th>\n",
       "      <td>i1-js-14-3-01-11544-644949368-i.init.cedexis-r...</td>\n",
       "    </tr>\n",
       "    <tr>\n",
       "      <th>6240</th>\n",
       "      <td>static.vol24.fr</td>\n",
       "    </tr>\n",
       "    <tr>\n",
       "      <th>39840</th>\n",
       "      <td>mars.nasa.gov</td>\n",
       "    </tr>\n",
       "    <tr>\n",
       "      <th>3899</th>\n",
       "      <td>scholar.google.fr</td>\n",
       "    </tr>\n",
       "    <tr>\n",
       "      <th>9677</th>\n",
       "      <td>9zouxfza1h.s.ad6media.fr</td>\n",
       "    </tr>\n",
       "  </tbody>\n",
       "</table>\n",
       "</div>"
      ],
      "text/plain": [
       "                                                    site\n",
       "13852  i1-js-14-3-01-11544-644949368-i.init.cedexis-r...\n",
       "6240                                     static.vol24.fr\n",
       "39840                                      mars.nasa.gov\n",
       "3899                                   scholar.google.fr\n",
       "9677                            9zouxfza1h.s.ad6media.fr"
      ]
     },
     "execution_count": 20,
     "metadata": {},
     "output_type": "execute_result"
    }
   ],
   "source": [
    "# приведем колонки site1, ..., site10 к целочисленному формату и заменим пропуски нулями\n",
    "sites = ['site%s' % i for i in range(1, 11)]\n",
    "train_df[sites] = train_df[sites].fillna(0).astype('int')\n",
    "test_df[sites] = test_df[sites].fillna(0).astype('int')\n",
    "\n",
    "# загрузим словарик сайтов\n",
    "with open(r\"../../data/site_dic.pkl\", \"rb\") as input_file:\n",
    "    site_dict = pickle.load(input_file)\n",
    "\n",
    "# датафрейм словарика сайтов\n",
    "sites_dict = pd.DataFrame(list(site_dict.keys()), index=list(site_dict.values()), columns=['site'])\n",
    "print(u'всего сайтов:', sites_dict.shape[0])\n",
    "sites_dict.head()"
   ]
  },
  {
   "cell_type": "markdown",
   "metadata": {},
   "source": [
    "\n",
    "#### Задание 1: Какие размерности имеют тестовая и обучающая выборки?\n",
    "\n",
    "- (82797, 20) (253561, 20)\n",
    "- (82797, 20) (253561, 21)\n",
    "- (253561, 21) (82797, 20)\n",
    "- (253561, 20) (82797, 20)"
   ]
  },
  {
   "cell_type": "code",
   "execution_count": 21,
   "metadata": {},
   "outputs": [
    {
     "name": "stdout",
     "output_type": "stream",
     "text": [
      "Train set size (253561, 21)\n",
      "Test set size (82797, 20)\n"
     ]
    }
   ],
   "source": [
    "print('Train set size {}'.format(train_df.shape))\n",
    "print('Test set size {}'.format(test_df.shape))"
   ]
  },
  {
   "cell_type": "markdown",
   "metadata": {},
   "source": [
    "### 2. Очень краткий первичный анализ"
   ]
  },
  {
   "cell_type": "markdown",
   "metadata": {},
   "source": [
    "Перед тем, как начинать строить модели, необходимо провести первичный (разведочный) анализ ([EDA](https://en.wikipedia.org/wiki/Exploratory_data_analysis)). Мы сделаем его краткую версию, но по мере продвижения начнём пользоваться другими его техниками. Посмотрим, какие сайты из обучающей выборки наиболее посещаемые. Ими оказались сервисы компании Гугл и сайт по биоинформатике (сайт с \"нулевым\" индексом — это наши пропущенные значения, просто проигнорируем его):"
   ]
  },
  {
   "cell_type": "code",
   "execution_count": 22,
   "metadata": {},
   "outputs": [
    {
     "name": "stdout",
     "output_type": "stream",
     "text": [
      "21     123776\n",
      "0      122730\n",
      "23      87619\n",
      "782     77055\n",
      "22      58258\n",
      "dtype: int64\n"
     ]
    },
    {
     "data": {
      "text/html": [
       "<div>\n",
       "<table border=\"1\" class=\"dataframe\">\n",
       "  <thead>\n",
       "    <tr style=\"text-align: right;\">\n",
       "      <th></th>\n",
       "      <th>site</th>\n",
       "    </tr>\n",
       "  </thead>\n",
       "  <tbody>\n",
       "    <tr>\n",
       "      <th>21</th>\n",
       "      <td>www.google.fr</td>\n",
       "    </tr>\n",
       "    <tr>\n",
       "      <th>0</th>\n",
       "      <td>NaN</td>\n",
       "    </tr>\n",
       "    <tr>\n",
       "      <th>23</th>\n",
       "      <td>www.google.com</td>\n",
       "    </tr>\n",
       "    <tr>\n",
       "      <th>782</th>\n",
       "      <td>annotathon.org</td>\n",
       "    </tr>\n",
       "    <tr>\n",
       "      <th>22</th>\n",
       "      <td>apis.google.com</td>\n",
       "    </tr>\n",
       "  </tbody>\n",
       "</table>\n",
       "</div>"
      ],
      "text/plain": [
       "                site\n",
       "21     www.google.fr\n",
       "0                NaN\n",
       "23    www.google.com\n",
       "782   annotathon.org\n",
       "22   apis.google.com"
      ]
     },
     "execution_count": 22,
     "metadata": {},
     "output_type": "execute_result"
    }
   ],
   "source": [
    "# топ-сайты в обучающей выборке\n",
    "top_sites = pd.Series(train_df[sites].fillna(0).values.flatten()\n",
    "                     ).value_counts().sort_values(ascending=False).head(5)\n",
    "print(top_sites)\n",
    "sites_dict.ix[top_sites.index]"
   ]
  },
  {
   "cell_type": "markdown",
   "metadata": {},
   "source": [
    "##### Задание 2: Какие сайты Элис посещает в сети наиболее часто?\n",
    "\n",
    "- видеохостинги - correct\n",
    "- социальные сети\n",
    "- торрент-трекеры\n",
    "- новостные сайты"
   ]
  },
  {
   "cell_type": "code",
   "execution_count": 27,
   "metadata": {},
   "outputs": [
    {
     "name": "stdout",
     "output_type": "stream",
     "text": [
      "77    1382\n",
      "80    1354\n",
      "76    1307\n",
      "29     897\n",
      "21     857\n",
      "dtype: int64\n"
     ]
    },
    {
     "data": {
      "text/html": [
       "<div>\n",
       "<table border=\"1\" class=\"dataframe\">\n",
       "  <thead>\n",
       "    <tr style=\"text-align: right;\">\n",
       "      <th></th>\n",
       "      <th>site</th>\n",
       "    </tr>\n",
       "  </thead>\n",
       "  <tbody>\n",
       "    <tr>\n",
       "      <th>77</th>\n",
       "      <td>i1.ytimg.com</td>\n",
       "    </tr>\n",
       "    <tr>\n",
       "      <th>80</th>\n",
       "      <td>s.youtube.com</td>\n",
       "    </tr>\n",
       "    <tr>\n",
       "      <th>76</th>\n",
       "      <td>www.youtube.com</td>\n",
       "    </tr>\n",
       "    <tr>\n",
       "      <th>29</th>\n",
       "      <td>www.facebook.com</td>\n",
       "    </tr>\n",
       "    <tr>\n",
       "      <th>21</th>\n",
       "      <td>www.google.fr</td>\n",
       "    </tr>\n",
       "  </tbody>\n",
       "</table>\n",
       "</div>"
      ],
      "text/plain": [
       "                site\n",
       "77      i1.ytimg.com\n",
       "80     s.youtube.com\n",
       "76   www.youtube.com\n",
       "29  www.facebook.com\n",
       "21     www.google.fr"
      ]
     },
     "execution_count": 27,
     "metadata": {},
     "output_type": "execute_result"
    }
   ],
   "source": [
    "top_sites_Elis = pd.Series(train_df[train_df['target']==1][sites].fillna(0).\n",
    "                      values.flatten()).value_counts(ascending = False).head(5)\n",
    "print(top_sites_Elis)\n",
    "sites_dict.ix[top_sites_Elis.index]"
   ]
  },
  {
   "cell_type": "markdown",
   "metadata": {},
   "source": [
    "Теперь посмотрим на временные отметки и попробуем охарактеризовать сессии временными интервалами:"
   ]
  },
  {
   "cell_type": "code",
   "execution_count": 54,
   "metadata": {},
   "outputs": [
    {
     "data": {
      "text/html": [
       "<div>\n",
       "<table border=\"1\" class=\"dataframe\">\n",
       "  <thead>\n",
       "    <tr style=\"text-align: right;\">\n",
       "      <th></th>\n",
       "      <th>site1</th>\n",
       "      <th>time1</th>\n",
       "      <th>site2</th>\n",
       "      <th>time2</th>\n",
       "      <th>site3</th>\n",
       "      <th>time3</th>\n",
       "      <th>site4</th>\n",
       "      <th>time4</th>\n",
       "      <th>site5</th>\n",
       "      <th>time5</th>\n",
       "      <th>site6</th>\n",
       "      <th>time6</th>\n",
       "      <th>site7</th>\n",
       "      <th>time7</th>\n",
       "      <th>site8</th>\n",
       "      <th>time8</th>\n",
       "      <th>site9</th>\n",
       "      <th>time9</th>\n",
       "      <th>site10</th>\n",
       "      <th>time10</th>\n",
       "    </tr>\n",
       "    <tr>\n",
       "      <th>session_id</th>\n",
       "      <th></th>\n",
       "      <th></th>\n",
       "      <th></th>\n",
       "      <th></th>\n",
       "      <th></th>\n",
       "      <th></th>\n",
       "      <th></th>\n",
       "      <th></th>\n",
       "      <th></th>\n",
       "      <th></th>\n",
       "      <th></th>\n",
       "      <th></th>\n",
       "      <th></th>\n",
       "      <th></th>\n",
       "      <th></th>\n",
       "      <th></th>\n",
       "      <th></th>\n",
       "      <th></th>\n",
       "      <th></th>\n",
       "      <th></th>\n",
       "    </tr>\n",
       "  </thead>\n",
       "  <tbody>\n",
       "    <tr>\n",
       "      <th>1</th>\n",
       "      <td>29</td>\n",
       "      <td>2014-10-04 11:19:53</td>\n",
       "      <td>35</td>\n",
       "      <td>2014-10-04 11:19:53</td>\n",
       "      <td>22</td>\n",
       "      <td>2014-10-04 11:19:54</td>\n",
       "      <td>321</td>\n",
       "      <td>2014-10-04 11:19:54</td>\n",
       "      <td>23</td>\n",
       "      <td>2014-10-04 11:19:54</td>\n",
       "      <td>2211</td>\n",
       "      <td>2014-10-04 11:19:54</td>\n",
       "      <td>6730</td>\n",
       "      <td>2014-10-04 11:19:54</td>\n",
       "      <td>21</td>\n",
       "      <td>2014-10-04 11:19:54</td>\n",
       "      <td>44582</td>\n",
       "      <td>2014-10-04 11:20:00</td>\n",
       "      <td>15336</td>\n",
       "      <td>2014-10-04 11:20:00</td>\n",
       "    </tr>\n",
       "    <tr>\n",
       "      <th>2</th>\n",
       "      <td>782</td>\n",
       "      <td>2014-07-03 11:00:28</td>\n",
       "      <td>782</td>\n",
       "      <td>2014-07-03 11:00:53</td>\n",
       "      <td>782</td>\n",
       "      <td>2014-07-03 11:00:58</td>\n",
       "      <td>782</td>\n",
       "      <td>2014-07-03 11:01:06</td>\n",
       "      <td>782</td>\n",
       "      <td>2014-07-03 11:01:09</td>\n",
       "      <td>782</td>\n",
       "      <td>2014-07-03 11:01:10</td>\n",
       "      <td>782</td>\n",
       "      <td>2014-07-03 11:01:23</td>\n",
       "      <td>782</td>\n",
       "      <td>2014-07-03 11:01:29</td>\n",
       "      <td>782</td>\n",
       "      <td>2014-07-03 11:01:30</td>\n",
       "      <td>782</td>\n",
       "      <td>2014-07-03 11:01:53</td>\n",
       "    </tr>\n",
       "    <tr>\n",
       "      <th>3</th>\n",
       "      <td>55</td>\n",
       "      <td>2014-12-05 15:55:12</td>\n",
       "      <td>55</td>\n",
       "      <td>2014-12-05 15:55:13</td>\n",
       "      <td>55</td>\n",
       "      <td>2014-12-05 15:55:14</td>\n",
       "      <td>55</td>\n",
       "      <td>2014-12-05 15:56:15</td>\n",
       "      <td>55</td>\n",
       "      <td>2014-12-05 15:56:16</td>\n",
       "      <td>55</td>\n",
       "      <td>2014-12-05 15:56:17</td>\n",
       "      <td>55</td>\n",
       "      <td>2014-12-05 15:56:18</td>\n",
       "      <td>55</td>\n",
       "      <td>2014-12-05 15:56:19</td>\n",
       "      <td>1445</td>\n",
       "      <td>2014-12-05 15:56:33</td>\n",
       "      <td>1445</td>\n",
       "      <td>2014-12-05 15:56:36</td>\n",
       "    </tr>\n",
       "    <tr>\n",
       "      <th>4</th>\n",
       "      <td>1023</td>\n",
       "      <td>2014-11-04 10:03:19</td>\n",
       "      <td>1022</td>\n",
       "      <td>2014-11-04 10:03:19</td>\n",
       "      <td>50</td>\n",
       "      <td>2014-11-04 10:03:20</td>\n",
       "      <td>222</td>\n",
       "      <td>2014-11-04 10:03:21</td>\n",
       "      <td>202</td>\n",
       "      <td>2014-11-04 10:03:21</td>\n",
       "      <td>3374</td>\n",
       "      <td>2014-11-04 10:03:22</td>\n",
       "      <td>50</td>\n",
       "      <td>2014-11-04 10:03:22</td>\n",
       "      <td>48</td>\n",
       "      <td>2014-11-04 10:03:22</td>\n",
       "      <td>48</td>\n",
       "      <td>2014-11-04 10:03:23</td>\n",
       "      <td>3374</td>\n",
       "      <td>2014-11-04 10:03:23</td>\n",
       "    </tr>\n",
       "    <tr>\n",
       "      <th>5</th>\n",
       "      <td>301</td>\n",
       "      <td>2014-05-16 15:05:31</td>\n",
       "      <td>301</td>\n",
       "      <td>2014-05-16 15:05:32</td>\n",
       "      <td>301</td>\n",
       "      <td>2014-05-16 15:05:33</td>\n",
       "      <td>66</td>\n",
       "      <td>2014-05-16 15:05:39</td>\n",
       "      <td>67</td>\n",
       "      <td>2014-05-16 15:05:40</td>\n",
       "      <td>69</td>\n",
       "      <td>2014-05-16 15:05:40</td>\n",
       "      <td>70</td>\n",
       "      <td>2014-05-16 15:05:40</td>\n",
       "      <td>68</td>\n",
       "      <td>2014-05-16 15:05:40</td>\n",
       "      <td>71</td>\n",
       "      <td>2014-05-16 15:05:40</td>\n",
       "      <td>167</td>\n",
       "      <td>2014-05-16 15:05:44</td>\n",
       "    </tr>\n",
       "  </tbody>\n",
       "</table>\n",
       "</div>"
      ],
      "text/plain": [
       "            site1               time1  site2               time2  site3  \\\n",
       "session_id                                                                \n",
       "1              29 2014-10-04 11:19:53     35 2014-10-04 11:19:53     22   \n",
       "2             782 2014-07-03 11:00:28    782 2014-07-03 11:00:53    782   \n",
       "3              55 2014-12-05 15:55:12     55 2014-12-05 15:55:13     55   \n",
       "4            1023 2014-11-04 10:03:19   1022 2014-11-04 10:03:19     50   \n",
       "5             301 2014-05-16 15:05:31    301 2014-05-16 15:05:32    301   \n",
       "\n",
       "                         time3  site4               time4  site5  \\\n",
       "session_id                                                         \n",
       "1          2014-10-04 11:19:54    321 2014-10-04 11:19:54     23   \n",
       "2          2014-07-03 11:00:58    782 2014-07-03 11:01:06    782   \n",
       "3          2014-12-05 15:55:14     55 2014-12-05 15:56:15     55   \n",
       "4          2014-11-04 10:03:20    222 2014-11-04 10:03:21    202   \n",
       "5          2014-05-16 15:05:33     66 2014-05-16 15:05:39     67   \n",
       "\n",
       "                         time5  site6               time6  site7  \\\n",
       "session_id                                                         \n",
       "1          2014-10-04 11:19:54   2211 2014-10-04 11:19:54   6730   \n",
       "2          2014-07-03 11:01:09    782 2014-07-03 11:01:10    782   \n",
       "3          2014-12-05 15:56:16     55 2014-12-05 15:56:17     55   \n",
       "4          2014-11-04 10:03:21   3374 2014-11-04 10:03:22     50   \n",
       "5          2014-05-16 15:05:40     69 2014-05-16 15:05:40     70   \n",
       "\n",
       "                         time7  site8               time8  site9  \\\n",
       "session_id                                                         \n",
       "1          2014-10-04 11:19:54     21 2014-10-04 11:19:54  44582   \n",
       "2          2014-07-03 11:01:23    782 2014-07-03 11:01:29    782   \n",
       "3          2014-12-05 15:56:18     55 2014-12-05 15:56:19   1445   \n",
       "4          2014-11-04 10:03:22     48 2014-11-04 10:03:22     48   \n",
       "5          2014-05-16 15:05:40     68 2014-05-16 15:05:40     71   \n",
       "\n",
       "                         time9  site10              time10  \n",
       "session_id                                                  \n",
       "1          2014-10-04 11:20:00   15336 2014-10-04 11:20:00  \n",
       "2          2014-07-03 11:01:30     782 2014-07-03 11:01:53  \n",
       "3          2014-12-05 15:56:33    1445 2014-12-05 15:56:36  \n",
       "4          2014-11-04 10:03:23    3374 2014-11-04 10:03:23  \n",
       "5          2014-05-16 15:05:40     167 2014-05-16 15:05:44  "
      ]
     },
     "execution_count": 54,
     "metadata": {},
     "output_type": "execute_result"
    }
   ],
   "source": [
    "# создадим отдельный датафрейм, где будем работать со временем\n",
    "time_df = pd.DataFrame(index=train_df.index)\n",
    "time_df['target'] = train_df['target']\n",
    "\n",
    "# найдем время начала и окончания сессии\n",
    "time_df['min'] = train_df[times].min(axis=1)\n",
    "time_df['max'] = train_df[times].max(axis=1)\n",
    "\n",
    "# вычислим длительность сессии и переведем в секунды\n",
    "time_df['seconds'] = (time_df['max'] - time_df['min']) / np.timedelta64(1, 's')\n",
    "\n",
    "time_df.head()"
   ]
  },
  {
   "cell_type": "markdown",
   "metadata": {},
   "source": [
    "Чтобы выполнить следующее задание, составьте описательные статистики по образу тех, которые вы делали в домашней работе на первой неделе. \n",
    "\n",
    "##### Задание 3. Выберите все верные утверждения (может оказаться один верный ответ, несколько или ни одного):\n",
    "\n",
    "- в среднем сессия Элис короче, чем у остальных пользователей *right*\n",
    "- доля сессий Элис в выборке больше 1% *wrong*\n",
    "- диапазоны длительности сессий и Элис, и остальных примерно одинаковы *right*\n",
    "- разброс значений относительно среднего у всех пользователей (Элис в том числе) приблизительно одинаков *wrong*\n",
    "- доля сессий Элис от 40 секунд и дольше составляет менее четверти *right*"
   ]
  },
  {
   "cell_type": "code",
   "execution_count": 56,
   "metadata": {},
   "outputs": [
    {
     "name": "stdout",
     "output_type": "stream",
     "text": [
      "Average Elis session length is 52.3 seconds long\n",
      "Average other users session length is 139.3 seconds long\n",
      "Ration of Elis sessions to other users = 0.00905896411514\n",
      "Std Elis session length is 153.3 seconds long\n",
      "Std other users session length is 296.7 seconds long\n",
      "Elis session length is between 0.0 and 1763.0 seconds long\n",
      "Other users session length is between 0.0 and 1800.0 seconds long\n",
      "Ration of Elis sessions longer than 40s 0.005\n"
     ]
    }
   ],
   "source": [
    "print('Average Elis session length is {0:.1f} seconds long'.format(\n",
    "       np.mean(time_df[time_df['target'] == 1]['seconds'])))\n",
    "print('Average other users session length is {0:.1f} seconds long'.format(\n",
    "       np.mean(time_df[time_df['target'] == 0]['seconds'])))\n",
    "print('Ration of Elis sessions to other users = {}'.format(\n",
    "       sum(time_df['target'])/len(time_df['target'])))\n",
    "print('Std Elis session length is {0:.1f} seconds long'.format(\n",
    "       np.std(time_df[time_df['target'] == 1]['seconds'])))\n",
    "print('Std other users session length is {0:.1f} seconds long'.format(\n",
    "       np.std(time_df[time_df['target'] == 0]['seconds'])))\n",
    "print('Elis session length is between {0:.1f} and {1:.1f} seconds long'.format(\n",
    "       np.min(time_df[time_df['target'] == 1]['seconds']),\n",
    "       np.max(time_df[time_df['target'] == 1]['seconds'])))\n",
    "print('Other users session length is between {0:.1f} and {1:.1f} seconds long'.format(\n",
    "       np.min(time_df[time_df['target'] == 0]['seconds']),\n",
    "       np.max(time_df[time_df['target'] == 0]['seconds'])))\n",
    "print('Ration of Elis sessions longer than 40s {0:.3f}'.format(\n",
    "       sum(time_df[time_df['seconds']>=40]['target'])/len(\n",
    "           time_df[time_df['seconds']>=40]['target'])))"
   ]
  },
  {
   "cell_type": "markdown",
   "metadata": {},
   "source": [
    "Чтобы обучить нашу первую модель, необходимо подготовить данные. С самого начала выделим целевую переменную и удалим ее из обучающей выборки. Теперь и обучающая, и тестовая выборки будут иметь одинаковое количество колонок, поэтому объединим их в один общий датафрейм. Таким образом, все преобразования будут выполняться одновременно как для обучающей, так и для тестовой выборок. С одной стороны, это ведет к тому, что у обеих выборок будет одно пространство признаков (можно не волноваться, что забыли сделать преобразование какого-то признака для одной из выборок), но с другой возрастает время обработки. Для больших выборок может оказаться невозможным сделать преобразования одновременно для обеих выборок (а иногда преобразования придется разбивать на несколько этапов только для обучающей/тестовой выборки). Здесь же мы будем делать преобразования для объединенной таблицы целиком, а перед обучением или прогнозированием просто возьмем нужную ее часть."
   ]
  },
  {
   "cell_type": "code",
   "execution_count": 67,
   "metadata": {},
   "outputs": [
    {
     "data": {
      "text/plain": [
       "(336358, 20)"
      ]
     },
     "execution_count": 67,
     "metadata": {},
     "output_type": "execute_result"
    }
   ],
   "source": [
    "# наша целевая переменная\n",
    "y_train = train_df['target']\n",
    "\n",
    "# объединенная таблица исходных данных\n",
    "full_df = pd.concat([train_df.drop('target', axis=1), test_df])\n",
    "\n",
    "# индекс, по которому будем отделять обучающую выборку от тестовой\n",
    "idx_split = train_df.shape[0]\n"
   ]
  },
  {
   "cell_type": "markdown",
   "metadata": {},
   "source": [
    "Для самой первой модели будем использовать только посещенные сайты в сессии (но не будем обращать внимание на временные признаки). За таким выбором данных для модели стоит следующая идея:  *у Элис есть свои излюбленные сайты, и чем чаще вы видим эти сайты в сессии, тем выше вероятность, что это сессия Элис, и наоборот.*\n",
    "\n",
    "Подготовим данные, из всей таблицы выберем только признаки `site1, site2, ... , site10`. Напомним, что пропущенные значения заменены нулем. Вот как выглядят первые строки таблицы:"
   ]
  },
  {
   "cell_type": "code",
   "execution_count": 69,
   "metadata": {},
   "outputs": [
    {
     "data": {
      "text/plain": [
       "(336358, 10)"
      ]
     },
     "execution_count": 69,
     "metadata": {},
     "output_type": "execute_result"
    }
   ],
   "source": [
    "# табличка с индексами посещенных сайтов в сессии\n",
    "full_sites = full_df[sites]"
   ]
  },
  {
   "cell_type": "markdown",
   "metadata": {},
   "source": [
    "Сессии представляют собой последовательность индексов сайтов, и данные в таком виде неудобны для линейных методов. В соответствии с нашей гипотезой (у Элис есть излюбленные сайты) надо преобразовать эту таблицу таким образом, чтобы каждому возможному сайту соответствовал свой отдельный признак (колонка), а его значение равнялось бы количеству посещений этого сайта в сессии. Это делается в две строчки:"
   ]
  },
  {
   "cell_type": "code",
   "execution_count": 99,
   "metadata": {},
   "outputs": [
    {
     "name": "stdout",
     "output_type": "stream",
     "text": [
      "[[0 0 0 ..., 0 0 0]]\n"
     ]
    }
   ],
   "source": [
    "# последовательность с индексами\n",
    "sites_flatten = full_sites.values.flatten()\n",
    "# искомая матрица\n",
    "full_sites_sparse = csr_matrix(([1] * sites_flatten.shape[0],\n",
    "                                sites_flatten,\n",
    "                                range(0, sites_flatten.shape[0]  + 10, 10)))[:, 1:]\n",
    "full_sites_sparse.todense().shape"
   ]
  },
  {
   "cell_type": "markdown",
   "metadata": {},
   "source": [
    "Если вы поняли, что здесь произошло, то можете пропустить следующий кусок (может, и с логистической регрессией тоже умеете обращаться?), если нет, то давайте разберемся.\n",
    "\n",
    "### Лирическое отступление 1: разреженные матрицы\n",
    "\n",
    "Оценим, сколько потребуется памяти для хранения наших данных на примере преобразований выше. Наша объединенная таблица содержит 336 тысяч наблюдений по 48 тысяч целочисленных признаков в каждом. Нетрудно посчитать необходимый объем памяти, навскидку это: $$336K * 48K * 8 байт = 16M * 8 байт = 128 Гбайт,$$ (а вот [точное](http://www.wolframalpha.com/input/?i=336358*48371*8+bytes) значение). Очевидно, что таких объемов у простых смертных нет (вообще говоря, Питон может и позволить вам создать такую матрицу, но вот уже что-то сделать с ней будет непросто). Что характерно, большинство элементов нашей матрицы — нули. Если мы посчитаем ненулевые элементы, то их окажется порядка 1.8 млн., т.е. чуть больше 10% от всех элементов матрицы. Такая матрица, где большинство элементов нулевые, называется разреженной, а отношение количества нулевых элементов к общему числу элементов называется разреженностью матрицы.\n",
    "\n",
    "Для работы с такими данными можно использовать библиотеку `scipy.sparse`, посмотрите [документацию](https://docs.scipy.org/doc/scipy-0.18.1/reference/sparse.html), чтобы разобраться, какие разреженные матрицы бывают, как с ними работать и в каких случаях их использование наиболее эффективно. О том, как они устроены, можно прочитать, например, в [статье](https://en.wikipedia.org/wiki/Sparse_matrix) англоязычной Википедии. Мы же отметим, что разреженная матрица хранит только ненулевые элементы, а место, занимаемое в памяти можно получить вот так (очевидна существенная экономия памяти):"
   ]
  },
  {
   "cell_type": "code",
   "execution_count": 9,
   "metadata": {},
   "outputs": [
    {
     "name": "stdout",
     "output_type": "stream",
     "text": [
      "1866898 elements * 8 bytes = 14935184 bytes\n",
      "sparse_matrix_size = 14935184 bytes\n"
     ]
    }
   ],
   "source": [
    "# Сколько места занимает разреженная матрица в памяти?\n",
    "print('{0} elements * {1} bytes = {2} bytes'.format(full_sites_sparse.count_nonzero(), 8, \n",
    "                                                    full_sites_sparse.count_nonzero() * 8))\n",
    "# или сразу вот так:\n",
    "print('sparse_matrix_size = {0} bytes'.format(full_sites_sparse.data.nbytes))"
   ]
  },
  {
   "cell_type": "markdown",
   "metadata": {},
   "source": [
    "Давайте теперь на минипримере разберемся, как была сформирована матрица с сайтами. Предположим, у нас имеется вот такая таблица с сессиями пользователей:\n",
    "\n",
    "| id | site1 | site2 | site3 |\n",
    "|---|---|---|---|\n",
    "| 1 | 1 | 0 | 0 |\n",
    "| 2 | 1 | 3 | 1 |\n",
    "| 3 | 2 | 3 | 4 |\n",
    "\n",
    "Имеется 3 сессии, в каждой из них не более 3 сайтов. Пользователи посещали четыре различных сайта (в ячейках таблицы числа от 1 до 4). Пусть  для определенности:\n",
    "\n",
    " 1. vk.com\n",
    " 2. habrahabr.ru \n",
    " 3. yandex.ru\n",
    " 4. ods.ai\n",
    "\n",
    "Если за сессию пользователь посетил меньше сайтов, то последние несколько значений будут ноликами. Мы хотим преобразовать исходные данные таким образом, чтобы каждой сессии соответствовала строка, которая отображала, сколько было посещений каждого конкретного сайта. Т.е. предыдущую таблицу мы хотим представить в виде:\n",
    "\n",
    "| id | vk.com | habrahabr.ru | yandex.ru | ods.ai |\n",
    "|---|---|---|---|---|\n",
    "| 1 | 1 | 0 | 0 | 0 |\n",
    "| 2 | 2 | 0 | 1 | 0 |\n",
    "| 3 | 0 | 1 | 1 | 1 |\n",
    "\n",
    "Для этого воспользуемся конструктором: `csr_matrix((data, indices, indptr))` и составим частотную таблицу (посмотрите примеры, код и комментарии по ссылкам выше, чтобы понять как это работает). Здесь для большей понятности все параметры зададим вручную:"
   ]
  },
  {
   "cell_type": "code",
   "execution_count": 101,
   "metadata": {
    "scrolled": true
   },
   "outputs": [
    {
     "name": "stdout",
     "output_type": "stream",
     "text": [
      "[[2 1 0 0 0]\n",
      " [0 2 0 1 0]\n",
      " [0 0 1 1 1]]\n"
     ]
    }
   ],
   "source": [
    "# данные, создаем список единичек, длина которого равна количеству элементов в исходной таблице (9)\n",
    "# просуммировав количество единичек в ячейке получим частоту, \n",
    "# сколько было посещений определенного сайта за сессию\n",
    "data = [1] * 9\n",
    "\n",
    "# для этого надо правильно распределить единички по ячейкам\n",
    "# индексы - номера сайтов, по ним будут суммироваться единички за сессии, т.е. колонки новой матрицы\n",
    "indices = [1, 0, 0, 1, 3, 1, 2, 3, 4]\n",
    "\n",
    "# индексы разбиения на строки (сессии)\n",
    "# например, строка 0 это элементы между индексами [0; 3) - крайнее правое значение не включается\n",
    "# строка 1 это элементы между индексами [3; 6) \n",
    "# строка 2 это элементы между индексами [6; 9) \n",
    "indptr = [0, 3, 6, 9]\n",
    "\n",
    "# объединим эти три переменных в кортеж и сформируем матрицу\n",
    "# чтобы вывести на экран преобразуем в обычную \"плотную\" матрицу\n",
    "csr_matrix((data, indices, indptr)).todense()"
   ]
  },
  {
   "cell_type": "markdown",
   "metadata": {},
   "source": [
    "Как вы могли заметить, в получившейся матрице не 4 столбца (по количеству различных сайтов), а 5. Добавился нулевой столбец, который сообщает, на сколько единиц сессия оказалась короче (в нашем минипримере мы брали сессии длины 3). Этот столбец лишний и его надо убрать из рассмотрения (сделайте это сами). \n",
    "\n",
    "##### Задание 4: А теперь еще один вопрос, чему равна разреженность матрицы из минипримера?\n",
    "\n",
    "- 42%\n",
    "- 47%\n",
    "- 50% *true*\n",
    "- 53%\n",
    "\n"
   ]
  },
  {
   "cell_type": "code",
   "execution_count": 118,
   "metadata": {},
   "outputs": [
    {
     "name": "stdout",
     "output_type": "stream",
     "text": [
      "Sparsity is equal to 50.0%\n"
     ]
    }
   ],
   "source": [
    "small_matrix = csr_matrix((data, indices, indptr)).todense()[:,1:]\n",
    "print('Sparsity is equal to {0:.1f}%'.format(\n",
    "    np.count_nonzero(small_matrix)/(small_matrix.shape[0]*small_matrix.shape[1])*100))"
   ]
  },
  {
   "cell_type": "markdown",
   "metadata": {},
   "source": [
    "Еще один плюс использования разреженных матриц в том, что для них имеются специальные реализации как матричных операций, так и алгоритмов машинного обучения, что подчас позволяет ощутимо ускорить операции за счет особенностей структуры данных. Это касается и логистической регрессии. Вот теперь у нас все готово для построения нашей первой модели.\n",
    "\n",
    "### 3. Построение первой модели\n",
    "\n",
    "Итак, у нас есть алгоритм и данные для него, построим нашу первую модель, воспользовавшись реализацией [логистической регрессии](http://scikit-learn.org/stable/modules/generated/sklearn.linear_model.LogisticRegression.html) из пакета `sklearn` с параметрами по умолчанию. Первые 90% данных будем использовать для обучения (обучающая выборка отсортирована по времени), а оставшиеся 10% для проверки качества (validation). Напишем простую функцию, которая будет возвращать качество модели и обучим наш первый классификатор:"
   ]
  },
  {
   "cell_type": "code",
   "execution_count": 119,
   "metadata": {
    "collapsed": true
   },
   "outputs": [],
   "source": [
    "def get_auc_lr_valid(X, y, C=1.0, seed=17, ratio = 0.9):\n",
    "    # разделим выборку на обучающую и валидационную\n",
    "    idx = int(round(X.shape[0] * ratio))\n",
    "    # обучение классификатора\n",
    "    lr = LogisticRegression(C=C, random_state=seed, n_jobs=-1).fit(X[:idx, :], y[:idx])\n",
    "    # прогноз для валидационной выборки\n",
    "    y_pred = lr.predict_proba(X[idx:, :])[:, 1]\n",
    "    # считаем качество\n",
    "    score = roc_auc_score(y[idx:], y_pred)\n",
    "    \n",
    "    return score"
   ]
  },
  {
   "cell_type": "code",
   "execution_count": 120,
   "metadata": {},
   "outputs": [
    {
     "name": "stdout",
     "output_type": "stream",
     "text": [
      "0.919524105836\n",
      "CPU times: user 2.96 s, sys: 168 ms, total: 3.13 s\n",
      "Wall time: 3.21 s\n"
     ]
    }
   ],
   "source": [
    "%%time\n",
    "# выделим из объединенной выборки только обучающую (для которой есть ответы)\n",
    "X_train = full_sites_sparse[:idx_split, :]\n",
    "\n",
    "# считаем метрику на валидационной выборке\n",
    "print(get_auc_lr_valid(X_train, y_train))"
   ]
  },
  {
   "cell_type": "markdown",
   "metadata": {},
   "source": [
    "Первая модель показала качество 0.91952 на отложенной выборке. Будем считать эту модель нашим первым бейслайном, отправной точкой. Для построения модели для прогноза на тестовой выборке **необходимо обучить модель заново уже на всей обучающей выборке** (пока наша модель обучалась лишь на части данных), что повысит ее обобщающую способность:"
   ]
  },
  {
   "cell_type": "code",
   "execution_count": 263,
   "metadata": {
    "collapsed": true
   },
   "outputs": [],
   "source": [
    "# функция для записи прогнозов в файл\n",
    "def write_to_submission_file(predicted_labels, out_file,\n",
    "                             target='target', index_label=\"session_id\"):\n",
    "    predicted_df = pd.DataFrame(predicted_labels,\n",
    "                                index = np.arange(1, predicted_labels.shape[0] + 1),\n",
    "                                columns=[target])\n",
    "    predicted_df.to_csv(out_file, index_label=index_label)"
   ]
  },
  {
   "cell_type": "code",
   "execution_count": 14,
   "metadata": {},
   "outputs": [],
   "source": [
    "# обучим модель на всей выборке\n",
    "# random_state=17 для воспроизводимости\n",
    "# параметр C=1 по умолчанию, но здесь мы его укажем явно\n",
    "lr = LogisticRegression(C=1.0, random_state=17).fit(X_train, y_train)\n",
    "\n",
    "# сделаем прогноз для тестовой выборки\n",
    "X_test = full_sites_sparse[idx_split:,:]\n",
    "y_test = lr.predict_proba(X_test)[:, 1]\n",
    "\n",
    "# запишем его в файл, готовый для сабмита\n",
    "write_to_submission_file(y_test, 'baseline_1.csv')"
   ]
  },
  {
   "cell_type": "markdown",
   "metadata": {},
   "source": [
    "Если вы выполните эти действия и загрузите ответ на [странице](https://inclass.kaggle.com/c/catch-me-if-you-can-intruder-detection-through-webpage-session-tracking) соревнования, то получите качество `ROC AUC = 0.91707` на публичном лидерборде.\n",
    "\n",
    "### 4. Улучшение модели, построение новых признаков\n",
    "\n",
    "Попробуем улучшить качество, добавив новые признаки в модель. Но сначала ответим на вопрос:\n",
    "\n",
    "##### Задание 5: данные за какие годы представлены в обучающей и тестовой выборке?\n",
    "\n",
    "- за 13 и 14\n",
    "- за 2012 и 2013\n",
    "- за 2013 и 2014 *right*\n",
    "- за 2014 и 2015"
   ]
  },
  {
   "cell_type": "code",
   "execution_count": 123,
   "metadata": {},
   "outputs": [
    {
     "data": {
      "text/plain": [
       "dtype('<M8[ns]')"
      ]
     },
     "execution_count": 123,
     "metadata": {},
     "output_type": "execute_result"
    }
   ],
   "source": [
    "# ваш код здесь\n",
    "full_df['time1'].apply(lambda x: x.year).unique()\n",
    "full_df['time1'].dtype"
   ]
  },
  {
   "cell_type": "markdown",
   "metadata": {},
   "source": [
    "Создадим такой признак, который будет представлять из себя число вида ГГГГММ от той даты, когда проходила сессия, например 201407 -- 2014 год и 7 месяц. Таким образом мы будем учитывать помесячный [линейный тренд](http://people.duke.edu/~rnau/411trend.htm) за весь период предоставленных данных."
   ]
  },
  {
   "cell_type": "code",
   "execution_count": 124,
   "metadata": {
    "collapsed": true
   },
   "outputs": [],
   "source": [
    "# датафрейм для новых признаков\n",
    "full_new_feat = pd.DataFrame(index=full_df.index)\n",
    "\n",
    "# добавим признак start_month\n",
    "full_new_feat['start_month'] = full_df['time1'].apply(lambda ts: 100 * ts.year + ts.month)"
   ]
  },
  {
   "cell_type": "markdown",
   "metadata": {},
   "source": [
    "##### Задание 6: Постройте график количества сессий Элис в зависимости от новой переменной start_month. Выберите верное утверждение:\n",
    "\n",
    "- Элис вообще не выходила в сеть за все это время\n",
    "- с начала 2013 года по середину 2014 года количество ежемесячных сессий уменьшилось\n",
    "- в целом количество сессий Элис за месяц постоянно на протяжении всего периода\n",
    "- с начала 2013 года по середину 2014 года количество ежемесячных сессий возросло\n",
    "\n",
    "*Подсказка: график будет нагляднее, если трактовать `start_month` как категориальную порядковую переменную*."
   ]
  },
  {
   "cell_type": "code",
   "execution_count": 155,
   "metadata": {},
   "outputs": [
    {
     "data": {
      "image/png": "[encoded data removed]",
      "text/plain": [
       "<matplotlib.figure.Figure at 0x112b21ad0>"
      ]
     },
     "metadata": {},
     "output_type": "display_data"
    }
   ],
   "source": [
    "temp = full_new_feat.iloc[:idx_split,:]\n",
    "temp['target'] = y_train\n",
    "elis_sessions = temp.groupby('start_month')['target'].sum()\n",
    "\n",
    "x_axis = elis_sessions.index\n",
    "y_axis = elis_sessions.values\n",
    "plt.plot(x_axis, y_axis, 'ro')\n",
    "plt.show() "
   ]
  },
  {
   "cell_type": "markdown",
   "metadata": {},
   "source": [
    "Таким образом, у нас есть иллюстрация и соображения насчет полезности нового признака, добавим его в обучающую выборку и проверим качество новой модели:"
   ]
  },
  {
   "cell_type": "code",
   "execution_count": 156,
   "metadata": {},
   "outputs": [
    {
     "name": "stdout",
     "output_type": "stream",
     "text": [
      "0.750835486018\n"
     ]
    }
   ],
   "source": [
    "# добавим новый признак в разреженную матрицу\n",
    "tmp = full_new_feat[['start_month']].as_matrix()\n",
    "X_train = csr_matrix(hstack([full_sites_sparse[:idx_split,:], tmp[:idx_split,:]]))\n",
    "\n",
    "# считаем метрику на валидационной выборке\n",
    "print(get_auc_lr_valid(X_train, y_train))"
   ]
  },
  {
   "cell_type": "markdown",
   "metadata": {},
   "source": [
    "Качество модели значительно ухудшилось. Мы добавили признак, который определенно казался нам полезным, но его использование только ухудшило модель. Почему так произошло?\n",
    "\n",
    "### Лирическое отступление 2: надо ли масштабировать признаки?\n",
    "\n",
    "Здесь мы приведем интуитивное рассуждение (строгое математическое обоснование того или иного аспекта в линейных моделях вы без труда найдете в сети). Рассмотрим признаки внимательнее: те из них, которые соответствуют количеству посещений определенного сайта за сессию, изменяются от 0 до 10. Признак `start_month` имеет совсем другую шкалу: от 201301 до 201412, это значит вклад этой переменной значительно больше остальных. Казалось бы, проблемы можно избежать, если поставить этому признаку меньший вес в линейной комбинации признаков, но в нашем случае используется логистическая регрессия с регуляризацией (по умолчанию этот параметр `C=1`), которая тем сильнее штрафует модель, чем ее веса больше.  Поэтому при использовании линейных методов с регуляризацией рекомендуется приводить признаки к одному масштабу (больше о регуляризации вы можете почитать, например, [здесь](https://habrahabr.ru/company/ods/blog/322076/)). \n",
    "\n",
    "Один из способов сделать это -- стандартизация: для каждого наблюдения надо отнять среднее по признаку и эту разность разделить на среднеквадратическое отклонение: \n",
    "\n",
    "$$ x^{*}_{i} = \\dfrac{x_{i} - \\mu_x}{\\sigma_x}$$\n",
    "\n",
    "Можно дать следующие практические советы:\n",
    "- рекомендуется масштабировать признаки, если они находятся в существенно разных шкалах или разных единицах измерения (например, население страны указано в единицах, а ВНП страны в триллионах);\n",
    "- масштабируйте признаки, если у вас нет оснований/экспертного мнения придавать больший вес каким-либо из них;\n",
    "- масштабирование может быть лишним, если диапазоны некоторых ваших признаков отличаются друг от друга, но при этом находятся в одной системе единиц (например, доли людей средних лет и старше 80 среди всего населения);\n",
    "- если вы хотите получить интерпретируемую модель, то постройте модель без регуляризации и масштабирования (скорее всего, ее качество окажется хуже);\n",
    "- бинарные переменные (принимают только значения 0 или 1) обычно оставляют без преобразования, (но)\n",
    "- если качество модели имеет решающее значение, попробуйте разные варианты и выберите тот, где качество выше.\n",
    "\n",
    "Возвращаяся к `start_month`, масштабируем новый признак и снова обучим модель. В этот раз качество возросло:"
   ]
  },
  {
   "cell_type": "code",
   "execution_count": 157,
   "metadata": {},
   "outputs": [
    {
     "name": "stdout",
     "output_type": "stream",
     "text": [
      "0.919698464197\n"
     ]
    }
   ],
   "source": [
    "# добавим новый стандартизированный признак в разреженную матрицу\n",
    "tmp = StandardScaler().fit_transform(full_new_feat[['start_month']])\n",
    "X_train = csr_matrix(hstack([full_sites_sparse[:idx_split,:], tmp[:idx_split,:]]))\n",
    "\n",
    "# считаем метрику на валидационной выборке\n",
    "print(get_auc_lr_valid(X_train, y_train))"
   ]
  },
  {
   "cell_type": "markdown",
   "metadata": {},
   "source": [
    "##### Задание 7: Добавьте в обучающую выборку признак n_unique_sites , количество уникальных сайтов в сессии, и посчитайте, как изменилось качество на отложенной выборке?\n",
    "\n",
    "- уменьшилось, новый признак лучше не масштабировать\n",
    "- не изменилось\n",
    "- уменьшилось, новый признак надо масштабировать\n",
    "- я в ступоре и не знаю, надо ли мастшабировать новый признак, а попробовать оба варианта и выбрать лучший не хватает смелости\n",
    "\n",
    "*Подсказки: воспользуйтесь функцией nunique() из Pandas. Не забудьте включить в выборку start_month. Будете ли вы мастшабировать новый признак? Почему?*"
   ]
  },
  {
   "cell_type": "code",
   "execution_count": 236,
   "metadata": {},
   "outputs": [
    {
     "name": "stdout",
     "output_type": "stream",
     "text": [
      "Metrics on validation set for one scaled, one unscaled new feature 0.916377578994\n",
      "Metrics on validation set for two scaled new feature 0.915686787773\n"
     ]
    }
   ],
   "source": [
    "# add a feature: number of unique sites in session\n",
    "full_new_feat['n_unique_sites'] = full_df[sites].apply(lambda x: x.nunique(),axis = 1)\n",
    "temp_unscaled = full_new_feat[['n_unique_sites']].values\n",
    "temp_scaled = StandardScaler().fit_transform(full_new_feat[['start_month']])\n",
    "temp_scaled_both = StandardScaler().fit_transform(full_new_feat[['start_month','n_unique_sites']])\n",
    "\n",
    "X_train1 = csr_matrix(hstack([full_sites_sparse[:idx_split,:],temp_scaled[:idx_split,:],temp_unscaled[:idx_split,:]]))\n",
    "X_train2 = csr_matrix(hstack([full_sites_sparse[:idx_split,:],temp_scaled_both[:idx_split,:]]))\n",
    "\n",
    "print(\"Metrics on validation set for one scaled, one unscaled new feature {}\".format(get_auc_lr_valid(X_train1, y_train)))\n",
    "print(\"Metrics on validation set for two scaled new feature {}\".format(get_auc_lr_valid(X_train2, y_train)))\n"
   ]
  },
  {
   "cell_type": "markdown",
   "metadata": {},
   "source": [
    "Итак, новый признак немного ухудшил качество, поэтому мы не будем его использовать. Тем не менее, не спешите выкидывать признаки, которые не сработали. Они могут пригодится для комбинации новых признаков (например, когда новый признак является отношением или произведением двух других).\n",
    "\n",
    "##### Задание 8. Добавьте два новых признака: start_hour и morning. Посчитайте метрику, какие из признаков дали прирост?\n",
    "\n",
    "Признак `start_hour` это час в который началась сессия (от 0 до 23), а бинарный признак `morning` равен 1, если сессия началась утром и 0, если сессия началась позже (будем считать, что утро это если `start_hour равен` 11 или меньше).\n",
    "\n",
    "Будете ли вы масштабировать новые признаки? Сделайте предположения и проверьте их на практике.\n",
    "\n",
    "- ни один из признаков не дал прирост ;(\n",
    "- `start_hour` дал прирост, а `morning` нет\n",
    "- `morning` дал прирост, а `start_hour` почему-то нет\n",
    "- оба признака дали прирост *right*\n",
    "\n",
    "*Подсказка: найдите в [справке](http://pandas.pydata.org/pandas-docs/stable/api.html) подходящие функции для работы с временными данными. Не забудьте включить признак `start_month`.*"
   ]
  },
  {
   "cell_type": "code",
   "execution_count": 253,
   "metadata": {},
   "outputs": [
    {
     "name": "stdout",
     "output_type": "stream",
     "text": [
      "Metrics on validation set with raw 'start_hour' 0.957269294451\n",
      "Metrics on validation set with scaled 'start_hour' 0.957925214\n",
      "Metrics on validation set with raw 'morning' 0.948665501862\n",
      "Metrics on validation set with scaled 'morning' 0.94877781582\n",
      "Metrics on validation set with raw 'morning' and 'start_hour' 0.958494029849\n",
      "Metrics on validation set with both features scaled 0.959150704196\n"
     ]
    }
   ],
   "source": [
    "# raw start_hour\n",
    "full_new_feat['start_hour'] = full_df['time1'].apply(lambda x: x.hour)\n",
    "temp_raw = full_new_feat[['start_hour']].as_matrix()\n",
    "temp_scaled = StandardScaler().fit_transform(full_new_feat[['start_month']])\n",
    "X_train = csr_matrix(hstack([full_sites_sparse[:idx_split,:],temp_scaled[:idx_split,:],temp_raw[:idx_split,:]]))\n",
    "print(\"Metrics on validation set with raw 'start_hour' {}\".format(get_auc_lr_valid(X_train, y_train)))\n",
    "\n",
    "# scaled start_hour\n",
    "full_new_feat['start_hour'] = full_df['time1'].apply(lambda x: x.hour)\n",
    "temp_scaled = StandardScaler().fit_transform(full_new_feat[['start_month','start_hour']])\n",
    "X_train = csr_matrix(hstack([full_sites_sparse[:idx_split,:],temp_scaled[:idx_split,:]]))\n",
    "print(\"Metrics on validation set with scaled 'start_hour' {}\".format(get_auc_lr_valid(X_train, y_train)))\n",
    "\n",
    "# raw morning\n",
    "full_new_feat['start_hour'] = full_df['time1'].apply(lambda x: x.hour)\n",
    "full_new_feat['morning'] = full_new_feat['start_hour'].apply(lambda x: int(x<=11))\n",
    "temp_raw = full_new_feat[['morning']].as_matrix()\n",
    "temp_scaled = StandardScaler().fit_transform(full_new_feat[['start_month']])\n",
    "X_train = csr_matrix(hstack([full_sites_sparse[:idx_split,:],temp_scaled[:idx_split,:],temp_raw[:idx_split,:]]))\n",
    "print(\"Metrics on validation set with raw 'morning' {}\".format(get_auc_lr_valid(X_train, y_train)))\n",
    "\n",
    "# scaled morning\n",
    "full_new_feat['start_hour'] = full_df['time1'].apply(lambda x: x.hour)\n",
    "temp_scaled = StandardScaler().fit_transform(full_new_feat[['start_month','morning']])\n",
    "X_train = csr_matrix(hstack([full_sites_sparse[:idx_split,:],temp_scaled[:idx_split,:]]))\n",
    "print(\"Metrics on validation set with scaled 'morning' {}\".format(get_auc_lr_valid(X_train, y_train)))\n",
    "\n",
    "\n",
    "# raw start_hour and morning\n",
    "full_new_feat['start_hour'] = full_df['time1'].apply(lambda x: x.hour)\n",
    "full_new_feat['morning'] = full_new_feat['start_hour'].apply(lambda x: int(x<=11))\n",
    "temp_raw = full_new_feat[['morning','start_hour']].as_matrix()\n",
    "temp_scaled = StandardScaler().fit_transform(full_new_feat[['start_month']])\n",
    "X_train = csr_matrix(hstack([full_sites_sparse[:idx_split,:],temp_scaled[:idx_split,:],temp_raw[:idx_split,:]]))\n",
    "print(\"Metrics on validation set with raw 'morning' and 'start_hour' {}\".format(get_auc_lr_valid(X_train, y_train)))\n",
    "\n",
    "# scaled start_hour and scaled morning\n",
    "full_new_feat['start_hour'] = full_df['time1'].apply(lambda x: x.hour)\n",
    "full_new_feat['morning'] = full_new_feat['start_hour'].apply(lambda x: int(x<=11))\n",
    "temp_scaled = StandardScaler().fit_transform(full_new_feat[['start_month','start_hour','morning']])\n",
    "X_train = csr_matrix(hstack([full_sites_sparse[:idx_split,:],temp_scaled[:idx_split,:]]))\n",
    "print(\"Metrics on validation set with both features scaled {}\".format(get_auc_lr_valid(X_train, y_train)))\n"
   ]
  },
  {
   "cell_type": "markdown",
   "metadata": {},
   "source": [
    "### 5. Подбор коэффицициента регуляризации\n",
    "\n",
    "Итак, мы ввели признаки, которые улучшают качество нашей модели по сравнению с первым бейслайном. Можем ли мы добиться большего значения метрики? После того, как мы сформировали обучающую и тестовую выборки, почти всегда имеет смысл подобрать оптимальные гиперпараметры — характеристики модели, которые не изменяются во время обучения. Например, на 3 неделе вы проходили решающие деревья, глубина дерева это гиперпараметр, а признак, по которому происходит ветвление и его значение — нет. В используемой нами логистической регрессии веса каждого признака изменяются, и во время обучения ищутся их оптимальные значения, а коэффициент регуляризации остается постоянным. Это тот гиперпараметр, который мы сейчас будем оптимизировать.\n",
    "\n",
    "Посчитаем качество на отложенной выборке с коэффициентом регуляризации, который по умолчанию  равен 1 (`C=1`):"
   ]
  },
  {
   "cell_type": "code",
   "execution_count": 254,
   "metadata": {},
   "outputs": [
    {
     "name": "stdout",
     "output_type": "stream",
     "text": [
      "0.959150704196\n"
     ]
    }
   ],
   "source": [
    "# формируем обучающую выборку\n",
    "tmp_scaled = StandardScaler().fit_transform(full_new_feat[['start_month', 'start_hour', 'morning']])\n",
    "X_train = csr_matrix(hstack([full_sites_sparse[:idx_split,:], \n",
    "                             tmp_scaled[:idx_split,:]]))\n",
    "\n",
    "# зафиксируем качество с параметрами по умолчанию\n",
    "score_C_1 = get_auc_lr_valid(X_train, y_train)\n",
    "print(score_C_1)"
   ]
  },
  {
   "cell_type": "markdown",
   "metadata": {},
   "source": [
    "Постараемся побить этот результат за счет оптимизации коэффициента регуляризации. Возьмем набор возможных значений C и для каждого из них посчитаем значение метрики на отложенной выборке:"
   ]
  },
  {
   "cell_type": "code",
   "execution_count": 255,
   "metadata": {},
   "outputs": [
    {
     "name": "stdout",
     "output_type": "stream",
     "text": [
      "CPU times: user 22.8 s, sys: 422 ms, total: 23.2 s\n",
      "Wall time: 23.4 s\n"
     ]
    }
   ],
   "source": [
    "%%time\n",
    "# набор возможных значений С\n",
    "Cs = np.logspace(-3, 1, 10)\n",
    "\n",
    "scores = []\n",
    "    \n",
    "for C in Cs:\n",
    "    scores.append(get_auc_lr_valid(X_train, y_train, C=C))\n",
    "\n",
    "\n",
    "\n",
    "# установите и подключите этот модуль для отслеживания числа выполненных итераций \n",
    "\n",
    "# from tqdm import tqdm\n",
    "# for C in tqdm(Cs):\n",
    "#     scores.append(get_auc_lr_valid(X_train, y_train, C=C))"
   ]
  },
  {
   "cell_type": "markdown",
   "metadata": {},
   "source": [
    "Построим график зависимости метрики от значения коэффициента регуляризации. Значение метрики с параметром C по умолчанию отображено горизонтальным пунктиром:"
   ]
  },
  {
   "cell_type": "code",
   "execution_count": 257,
   "metadata": {},
   "outputs": [
    {
     "data": {
      "image/png": "[encoded data removed]",
      "text/plain": [
       "<matplotlib.figure.Figure at 0x10d903cd0>"
      ]
     },
     "metadata": {},
     "output_type": "display_data"
    }
   ],
   "source": [
    "plt.plot(Cs, scores, 'ro-')\n",
    "plt.xscale('log')\n",
    "plt.xlabel('C')\n",
    "plt.ylabel('AUC-ROC')\n",
    "plt.title('C coef optimization')\n",
    "# горизонтальная линия -- качество модели с коэффициентом по умолчанию\n",
    "plt.axhline(y=score_C_1, linewidth=.5, color = 'b', linestyle='dashed') \n",
    "plt.show()"
   ]
  },
  {
   "cell_type": "markdown",
   "metadata": {},
   "source": [
    "##### Задание 9:  при каком коэффициенте регуляризации C модель показывает наивысшее качество?\n",
    "\n",
    "- 0.17 correct\n",
    "- 0.46\n",
    "- 1.29\n",
    "- 3.14"
   ]
  },
  {
   "cell_type": "code",
   "execution_count": 261,
   "metadata": {},
   "outputs": [
    {
     "name": "stdout",
     "output_type": "stream",
     "text": [
      "[0.96121417124376229, 0.96033528433546378, 0.95867427563535879, 0.95626767737151519]\n"
     ]
    }
   ],
   "source": [
    "# ваш код здесь\n",
    "C_test = [0.17, 0.46, 1.29, 3.14]\n",
    "answer = []\n",
    "    \n",
    "for C in C_test:\n",
    "    answer.append(get_auc_lr_valid(X_train, y_train, C=C))\n",
    "print(answer)\n",
    "\n",
    "C_opt = Cs[scores.index(max(scores))]"
   ]
  },
  {
   "cell_type": "markdown",
   "metadata": {},
   "source": [
    "И последнее в этой домашней работе: обучите модель с найденным оптимальным значением коэффициента регуляризации (не округляйте до двух знаков как в последнем задании). Если вы все сделали правильно и загрузите это решение, то повторите второй бейслайн — 0.93474 на паблик лидерборде:"
   ]
  },
  {
   "cell_type": "code",
   "execution_count": 264,
   "metadata": {},
   "outputs": [],
   "source": [
    "# подготовим данные для обучения и теста\n",
    "tmp_scaled = StandardScaler().fit_transform(full_new_feat[['start_month', 'start_hour', 'morning']])\n",
    "X_train = csr_matrix(hstack([full_sites_sparse[:idx_split,:], \n",
    "                             tmp_scaled[:idx_split,:]]))\n",
    "X_test = csr_matrix(hstack([full_sites_sparse[idx_split:,:], \n",
    "                            tmp_scaled[idx_split:,:]]))\n",
    "\n",
    "# обучим модель на всей выборке с оптимальным коэффициентом регуляризации\n",
    "lr = LogisticRegression(C=C_opt, random_state=17).fit(X_train, y_train)\n",
    "\n",
    "# сделаем прогноз для тестовой выборки\n",
    "y_test = lr.predict_proba(X_test)[:, 1]\n",
    "\n",
    "# запишем его в файл, готовый для сабмита\n",
    "write_to_submission_file(y_test, 'baseline_2.csv')"
   ]
  },
  {
   "cell_type": "markdown",
   "metadata": {},
   "source": [
    "### Заключение\n",
    "\n",
    "В этой домашней работе вы научились пользоваться разреженными матрицами и обучать модели логистической регрессии, создали несколько признаков и отобрали лучшие из них, узнали, зачем надо масштабировать признаки и как подбирать гиперпараметры. Вот напоследок несколько идей для новых признаков: подумайте, что нового вы можете придумать по образу и подобию уже имеющихся признаков, попробуйте умножение или деление двух из них, подкрепите свои догадки графиками, постарайтесь извлечь полезную информацию из временных данных (time1 ... time10), не стесняйтесь преобразовать уже имеющийся признак (например, прологарифмировать). Мы предлагаем вам пробовать новые идеи и модели на протяжении всего курса, участвовать в соревновании – это весело!"
   ]
  }
 ],
 "metadata": {
  "kernelspec": {
   "display_name": "Python 2",
   "language": "python",
   "name": "python2"
  },
  "language_info": {
   "codemirror_mode": {
    "name": "ipython",
    "version": 2
   },
   "file_extension": ".py",
   "mimetype": "text/x-python",
   "name": "python",
   "nbconvert_exporter": "python",
   "pygments_lexer": "ipython2",
   "version": "2.7.13"
  }
 },
 "nbformat": 4,
 "nbformat_minor": 2
}
